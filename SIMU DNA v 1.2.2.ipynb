{
 "cells": [
  {
   "cell_type": "code",
   "execution_count": 20,
   "id": "1bb2e719",
   "metadata": {},
   "outputs": [
    {
     "name": "stdout",
     "output_type": "stream",
     "text": [
      "lagging strand: ['T', 'A', 'G', 'C', 'T', 'T', 'T', 'G', 'G', 'A', 'C', 'C']\n",
      "full double helix: [['A', 'T'], ['T', 'A'], ['C', 'G'], ['G', 'C'], ['A', 'T'], ['A', 'T'], ['A', 'T'], ['C', 'G'], ['C', 'G'], ['T', 'A'], ['G', 'C'], ['G', 'C']]\n"
     ]
    },
    {
     "data": {
      "text/plain": [
       "['leucine', 'alanine']"
      ]
     },
     "execution_count": 20,
     "metadata": {},
     "output_type": "execute_result"
    }
   ],
   "source": [
    "# phase 1: protein synthesis!\n",
    "DNA_5to3 = [\"A\", \"T\", \"C\", \"G\", \"A\", \"A\", \"A\", \"C\", \"C\", \"T\", \"G\", \"G\"]\n",
    "def protein_synthesis_main(DNA_5to3):\n",
    "    full_double_helix(DNA_5to3)\n",
    "    pre_mRNA = transcription(DNA_5to3)\n",
    "    mRNA = RNA_splicing(pre_mRNA, intron_indices)\n",
    "    mRNA_codons = make_codon(mRNA)\n",
    "    tRNA = find_tRNA(mRNA_codons)\n",
    "    return peptide_forming(mRNA_codons)\n",
    "protein_synthesis_main(DNA_5to3)"
   ]
  },
  {
   "cell_type": "code",
   "execution_count": 5,
   "id": "6d326730",
   "metadata": {},
   "outputs": [
    {
     "name": "stdout",
     "output_type": "stream",
     "text": [
      "lagging strand: ['T', 'A', 'G', 'C', 'T', 'T', 'T', 'G', 'G', 'A', 'C', 'C']\n",
      "full double helix: [['A', 'T'], ['T', 'A'], ['C', 'G'], ['G', 'C'], ['A', 'T'], ['A', 'T'], ['A', 'T'], ['C', 'G'], ['C', 'G'], ['T', 'A'], ['G', 'C'], ['G', 'C']]\n"
     ]
    }
   ],
   "source": [
    "DNA_5to3 = [\"A\", \"T\", \"C\", \"G\", \"A\", \"A\", \"A\", \"C\", \"C\", \"T\", \"G\", \"G\"]\n",
    "def full_double_helix(DNA_5to3):\n",
    "    DNA_3to5 = []\n",
    "    full_DNA = []\n",
    "    for i in range(len(DNA_5to3)):\n",
    "        if DNA_5to3[i] == \"A\":\n",
    "            DNA_3to5.append(\"T\")\n",
    "        elif DNA_5to3[i] == \"T\":\n",
    "            DNA_3to5.append(\"A\")\n",
    "        elif DNA_5to3[i] == \"C\":\n",
    "            DNA_3to5.append(\"G\")\n",
    "        elif DNA_5to3[i] == \"G\":\n",
    "            DNA_3to5.append(\"C\")\n",
    "        full_DNA.append([DNA_5to3[i], DNA_3to5[i]])\n",
    "    print(\"lagging strand:\", DNA_3to5)\n",
    "    print(\"full double helix:\", full_DNA)\n",
    "full_double_helix(DNA_5to3)"
   ]
  },
  {
   "cell_type": "code",
   "execution_count": 6,
   "id": "a9b94e38",
   "metadata": {},
   "outputs": [
    {
     "name": "stdout",
     "output_type": "stream",
     "text": [
      "pre_mRNA: ['U', 'A', 'G', 'C', 'U', 'U', 'U', 'G', 'G', 'A', 'C', 'C']\n"
     ]
    }
   ],
   "source": [
    "DNA_5to3 = [\"A\", \"T\", \"C\", \"G\", \"A\", \"A\", \"A\", \"C\", \"C\", \"T\", \"G\", \"G\"]\n",
    "def transcription(DNA_5to3):\n",
    "    pre_mRNA = []\n",
    "    for i in range(len(DNA_5to3)):\n",
    "        if DNA_5to3[i] == \"A\":\n",
    "            pre_mRNA.append(\"U\")\n",
    "        elif DNA_5to3[i] == \"T\":\n",
    "            pre_mRNA.append(\"A\")\n",
    "        elif DNA_5to3[i] == \"C\":\n",
    "            pre_mRNA.append(\"G\")\n",
    "        elif DNA_5to3[i] == \"G\":\n",
    "            pre_mRNA.append(\"C\")\n",
    "    return pre_mRNA\n",
    "print(\"pre_mRNA:\", transcription(DNA_5to3))\n"
   ]
  },
  {
   "cell_type": "code",
   "execution_count": 7,
   "id": "b599bb2b",
   "metadata": {},
   "outputs": [
    {
     "name": "stdout",
     "output_type": "stream",
     "text": [
      "mRNA: ['C', 'U', 'G', 'G', 'C', 'C']\n"
     ]
    }
   ],
   "source": [
    "pre_mRNA = transcription(DNA_5to3)\n",
    "intron_indices = [[0, 3], [4, 6], [9, 10]] #deletion will include first index, exclude second index\n",
    "\n",
    "def RNA_splicing(pre_mRNA, intron_indices):\n",
    "    new_copy_mRNA = pre_mRNA[:]\n",
    "    frameshift_lag = 0\n",
    "    for i in range(len(intron_indices)):        \n",
    "        if i == 0:\n",
    "            new_copy_mRNA = new_copy_mRNA[:intron_indices[i][0]] + new_copy_mRNA[intron_indices[i][1]:]\n",
    "        else:\n",
    "            frameshift_lag += intron_indices[i-1][1] - intron_indices[i-1][0]\n",
    "            new_copy_mRNA = new_copy_mRNA[:intron_indices[i][0]-frameshift_lag] + new_copy_mRNA[intron_indices[i][1]-frameshift_lag:]\n",
    "    return new_copy_mRNA\n",
    "print(\"mRNA:\", RNA_splicing(pre_mRNA, intron_indices))\n",
    "    "
   ]
  },
  {
   "cell_type": "code",
   "execution_count": 8,
   "id": "faed4fce",
   "metadata": {},
   "outputs": [
    {
     "data": {
      "text/plain": [
       "[['C', 'U', 'G'], ['G', 'C', 'C']]"
      ]
     },
     "execution_count": 8,
     "metadata": {},
     "output_type": "execute_result"
    }
   ],
   "source": [
    "mRNA = ['C', 'U', 'G', 'G', 'C', 'C', 'G', 'C']\n",
    "def make_codon(mRNA):\n",
    "    mRNA_codons = []\n",
    "    for i in range(0, len(mRNA), 3):\n",
    "        if i+2 < len(mRNA):\n",
    "            mRNA_codons.append([mRNA[i], mRNA[i+1], mRNA[i+2]])\n",
    "    return mRNA_codons\n",
    "make_codon(mRNA)"
   ]
  },
  {
   "cell_type": "code",
   "execution_count": 9,
   "id": "b809b12e",
   "metadata": {},
   "outputs": [
    {
     "data": {
      "text/plain": [
       "[['G', 'A', 'C'], ['C', 'G', 'G']]"
      ]
     },
     "execution_count": 9,
     "metadata": {},
     "output_type": "execute_result"
    }
   ],
   "source": [
    "mRNA_codons = [['C', 'U', 'G'], ['G', 'C', 'C']]\n",
    "def find_tRNA(mRNA_codons):\n",
    "    tRNA_chain = []    \n",
    "    for codon in mRNA_codons:\n",
    "        tRNA = []\n",
    "        for i in range(len(codon)):\n",
    "            if codon[i] == \"A\":\n",
    "                tRNA.append(\"U\")\n",
    "            elif codon[i] == \"U\":\n",
    "                tRNA.append(\"A\")\n",
    "            elif codon[i] == \"C\":\n",
    "                tRNA.append(\"G\")\n",
    "            elif codon[i] == \"G\":\n",
    "                tRNA.append(\"C\")\n",
    "        tRNA_chain.append(tRNA)\n",
    "    return tRNA_chain\n",
    "find_tRNA(mRNA_codons)\n",
    "        "
   ]
  },
  {
   "cell_type": "code",
   "execution_count": 10,
   "id": "8a8f849d",
   "metadata": {},
   "outputs": [
    {
     "data": {
      "text/plain": [
       "['aspartic acid', 'STOP']"
      ]
     },
     "execution_count": 10,
     "metadata": {},
     "output_type": "execute_result"
    }
   ],
   "source": [
    "def peptide_forming(mRNA_codons):\n",
    "    peptide_chain = []\n",
    "    for codon in mRNA_codons:\n",
    "        if codon == ['U', 'U', 'U'] or codon == ['U', 'U', 'C']:\n",
    "            peptide_chain.append('phenylalanine')\n",
    "        elif codon == ['U', 'U', 'A'] or codon == ['U', 'U', 'G'] or codon[:2] == ['C', 'U']:\n",
    "            peptide_chain.append('leucine')\n",
    "        elif codon == ['A', 'G', 'C'] or codon == ['A', 'G', 'U'] or codon[:2] == ['U', 'C']:\n",
    "            peptide_chain.append('serine')\n",
    "        elif codon[:2] == ['C', 'C']:\n",
    "            peptide_chain.append('proline')\n",
    "        elif codon[:2] == ['A', 'C']:\n",
    "            peptide_chain.append('threonine')\n",
    "        elif codon[:2] == ['G', 'C']:\n",
    "            peptide_chain.append('alanine')\n",
    "        elif codon[:2] == ['G', 'U']:\n",
    "            peptide_chain.append('valine')\n",
    "        elif codon == ['A', 'G', 'A'] or codon == ['A', 'G', 'G'] or codon[:2] == ['C', 'G']:\n",
    "            peptide_chain.append('arginine')\n",
    "        elif codon[:2] == ['G', 'G']:\n",
    "            peptide_chain.append('glycine')\n",
    "        elif codon == ['U', 'G', 'C'] or codon == ['U', 'G', 'U']:\n",
    "            peptide_chain.append('cysteine')\n",
    "        elif codon == ['U', 'A', 'U'] or codon == ['U', 'A', 'C']:\n",
    "            peptide_chain.append('tyrosine')\n",
    "        elif codon == ['A', 'A', 'U'] or codon == ['A', 'A', 'C']:\n",
    "            peptide_chain.append('asparagine')\n",
    "        elif codon == ['A', 'A', 'A'] or codon == ['A', 'A', 'G']:\n",
    "            peptide_chain.append('lysine')\n",
    "        elif codon == ['C', 'A', 'A'] or codon == ['C', 'A', 'G']:\n",
    "            peptide_chain.append('glutamine')\n",
    "        elif codon == ['C', 'A', 'U'] or codon == ['C', 'A', 'C']:\n",
    "            peptide_chain.append('histidine')\n",
    "        elif codon == ['A', 'U', 'U'] or codon == ['A', 'U', 'C'] or codon == ['A', 'U', 'A']:\n",
    "            peptide_chain.append('isoleucine')\n",
    "        elif codon == ['G', 'A', 'U'] or codon == ['G', 'A', 'C']:\n",
    "            peptide_chain.append('aspartic acid')\n",
    "        elif codon == ['G', 'A', 'G'] or codon == ['G', 'A', 'A']:\n",
    "            peptide_chain.append('glutamic acid')\n",
    "        elif codon == ['U', 'G', 'G']:\n",
    "            peptide_chain.append('tryptophan')\n",
    "        elif codon == ['A', 'U', 'G']:\n",
    "            peptide_chain.append('methionine')\n",
    "        elif codon == ['U', 'A', 'A'] or codon == ['U', 'A', 'G'] or codon == ['U', 'G', 'A']:\n",
    "            peptide_chain.append('STOP')\n",
    "            return peptide_chain\n",
    "    return peptide_chain\n",
    "        \n",
    "peptide_forming([['G', 'A', 'C'], ['U', 'A', 'A'], ['C', 'G', 'G']])            "
   ]
  },
  {
   "cell_type": "code",
   "execution_count": 11,
   "id": "2934ec24",
   "metadata": {},
   "outputs": [
    {
     "data": {
      "text/plain": [
       "[['A', 'T', 'C', 'G'], [4, 2, 3, 3]]"
      ]
     },
     "execution_count": 11,
     "metadata": {},
     "output_type": "execute_result"
    }
   ],
   "source": [
    "def count_frequencies(DNA_5to3):\n",
    "    numA, numT, numC, numG = 0, 0, 0, 0\n",
    "    for base in DNA_5to3:\n",
    "        if base == 'A':\n",
    "            numA += 1\n",
    "        if base == 'T':\n",
    "            numT += 1\n",
    "        if base == 'C':\n",
    "            numC += 1\n",
    "        if base == 'G':\n",
    "            numG += 1\n",
    "    return [['A', 'T', 'C', 'G'], [numA, numT, numC, numG]]\n",
    "count_frequencies(DNA_5to3)"
   ]
  },
  {
   "cell_type": "code",
   "execution_count": 12,
   "id": "1069c040",
   "metadata": {},
   "outputs": [],
   "source": [
    "# phase 2: muations!"
   ]
  },
  {
   "cell_type": "code",
   "execution_count": 13,
   "id": "dfeeedd5",
   "metadata": {},
   "outputs": [
    {
     "data": {
      "text/plain": [
       "['A', 'A', 'C']"
      ]
     },
     "execution_count": 13,
     "metadata": {},
     "output_type": "execute_result"
    }
   ],
   "source": [
    "def point_mutation(DNA_5to3, pos, new_base):\n",
    "    new_DNA_5to3 = DNA_5to3[:]\n",
    "    new_DNA_5to3[pos] = new_base\n",
    "    return new_DNA_5to3\n",
    "point_mutation(['A', 'T', 'C'], 1, 'A')"
   ]
  },
  {
   "cell_type": "code",
   "execution_count": 14,
   "id": "9d4acac1",
   "metadata": {},
   "outputs": [
    {
     "data": {
      "text/plain": [
       "['A', 'A', 'G', 'T', 'C']"
      ]
     },
     "execution_count": 14,
     "metadata": {},
     "output_type": "execute_result"
    }
   ],
   "source": [
    "def frameshift_insertion(DNA_5to3, pos, new_strand):\n",
    "    new_DNA_5to3 = DNA_5to3[:pos] + new_strand + DNA_5to3[pos:]\n",
    "    return new_DNA_5to3\n",
    "frameshift_insertion(['A', 'T', 'C'], 1, ['A', 'G'])"
   ]
  },
  {
   "cell_type": "code",
   "execution_count": 15,
   "id": "a5476029",
   "metadata": {},
   "outputs": [
    {
     "data": {
      "text/plain": [
       "['A', 'C']"
      ]
     },
     "execution_count": 15,
     "metadata": {},
     "output_type": "execute_result"
    }
   ],
   "source": [
    "def frameshift_deletion(DNA_5to3, pos, length):\n",
    "    assert length <= len(DNA_5to3[pos:])\n",
    "    new_DNA_5to3 = DNA_5to3[:pos] + DNA_5to3[pos + length:]\n",
    "    return new_DNA_5to3\n",
    "frameshift_deletion(['A', 'T', 'C'], 1, 1)"
   ]
  },
  {
   "cell_type": "code",
   "execution_count": 16,
   "id": "7cabd478",
   "metadata": {},
   "outputs": [
    {
     "data": {
      "text/plain": [
       "['A', 'T', 'A']"
      ]
     },
     "execution_count": 16,
     "metadata": {},
     "output_type": "execute_result"
    }
   ],
   "source": [
    "import random\n",
    "def random_mutation(DNA_5to3):\n",
    "    mutation_type = random.randint(0, 1)\n",
    "    pos = random.randint(0, len(DNA_5to3)-1)\n",
    "    if mutation_type == 0: #point\n",
    "        new_base = random.choice(['A', 'T', 'C', 'G'])\n",
    "        return point_mutation(DNA_5to3, pos, new_base)\n",
    "    else: #frameshift\n",
    "        insert_or_delete = random.randint(0, 1)\n",
    "        if insert_or_delete == 0: #insertion\n",
    "            insert_length = random.randint(0, 51)#upper limit 51 bases\n",
    "            new_strand = [random.choice(['A', 'T', 'C', 'G']) for i in range(insert_length)]\n",
    "            return frameshift_insertion(DNA_5to3, pos, new_strand)\n",
    "        else: #deletion\n",
    "            delete_length = random.randint(0, len(DNA_5to3)-1)\n",
    "            return frameshift_deletion(DNA_5to3, pos, delete_length)\n",
    "    \n",
    "random_mutation(['A', 'T', 'C'])"
   ]
  },
  {
   "cell_type": "code",
   "execution_count": 17,
   "id": "36342ff7",
   "metadata": {},
   "outputs": [],
   "source": [
    "# phase 3: minimum mutations!"
   ]
  },
  {
   "cell_type": "code",
   "execution_count": 18,
   "id": "29ab32c0",
   "metadata": {},
   "outputs": [],
   "source": [
    "#Wagner-Fischer Algorithm of Lenvenshtein distance, find the minimum number of single base \n",
    "#muations(insertion, deletion, substitution) required to reach from reference to target\n",
    "import numpy as np \n",
    "# def minimum_mutations(reference, target):\n",
    "#     dis = np.zeros((len(reference)+1, len(target)+1)) #array\n",
    "#     for i in range(0, len(reference)+1):\n",
    "#         dis[i, 0] = i \n",
    "#     for j in range(0, len(target)+1):\n",
    "#         dis[0, j] = j\n",
    "#     for j in range(1, len(target)+1):\n",
    "#         for i in range(1, len(reference)+1):\n",
    "#             if target[j-1] == reference[i-1]:\n",
    "#                 substitution_cost = 0\n",
    "#             else: \n",
    "#                 substitution_cost = 1\n",
    "#             dis[i, j] = min(dis[i-1,j] + 1, dis[i,j-1] + 1, dis[i-1,j-1] + substitution_cost) # deletion, insertion, substitution respectively \n",
    "#     return dis[len(reference), len(target)]\n",
    "\n",
    "# two-line array formating\n",
    "#https://en.wikipedia.org/wiki/Levenshtein_distance#Iterative_with_two_matrix_rows\n",
    "def minimum_mutations(reference, target):\n",
    "    v0 = np.zeros(len(target)+2) #vector/list for previous row\n",
    "    v1 = np.zeros(len(target)+2) #vector/list for current row\n",
    "    for i in range(0, len(target)+2):\n",
    "        v0[i]= i #previous row distance,start with empty reference\n",
    "    for i in range(0, len(reference)):\n",
    "        v1[0] =i+1\n",
    "        for j in range(0, len(target)):\n",
    "            deletion_cost =v0[j+1] + 1\n",
    "            insertion_cost = v1[j] + 1\n",
    "            if target[j] == reference[i]:\n",
    "                substitution_cost = v0[j]\n",
    "            else: \n",
    "                substitution_cost = v0[j] + 1\n",
    "            v1[j+1]= min(deletion_cost, insertion_cost, substitution_cost)\n",
    "        v0, v1 = v1, v0\n",
    "    return v0[len(target)]\n"
   ]
  },
  {
   "cell_type": "code",
   "execution_count": 19,
   "id": "7aed10f8",
   "metadata": {},
   "outputs": [
    {
     "data": {
      "text/plain": [
       "8.0"
      ]
     },
     "execution_count": 19,
     "metadata": {},
     "output_type": "execute_result"
    }
   ],
   "source": [
    "minimum_mutations(DNA_5to3, ['A', 'G', 'C', 'T'])"
   ]
  },
  {
   "cell_type": "code",
   "execution_count": null,
   "id": "2a48b749",
   "metadata": {},
   "outputs": [],
   "source": [
    "#widgets!!"
   ]
  },
  {
   "cell_type": "code",
   "execution_count": null,
   "id": "9224ba0a",
   "metadata": {},
   "outputs": [],
   "source": [
    "\n"
   ]
  },
  {
   "cell_type": "code",
   "execution_count": null,
   "id": "38e028ae",
   "metadata": {},
   "outputs": [],
   "source": []
  }
 ],
 "metadata": {
  "kernelspec": {
   "display_name": "Python 3",
   "language": "python",
   "name": "python3"
  },
  "language_info": {
   "codemirror_mode": {
    "name": "ipython",
    "version": 3
   },
   "file_extension": ".py",
   "mimetype": "text/x-python",
   "name": "python",
   "nbconvert_exporter": "python",
   "pygments_lexer": "ipython3",
   "version": "3.8.8"
  }
 },
 "nbformat": 4,
 "nbformat_minor": 5
}
